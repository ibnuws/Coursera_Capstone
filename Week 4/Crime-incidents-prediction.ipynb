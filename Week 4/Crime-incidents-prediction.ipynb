{
 "cells": [
  {
   "cell_type": "code",
   "execution_count": 1,
   "metadata": {},
   "outputs": [],
   "source": [
    "import pandas as pd\n",
    "import matplotlib.pyplot as plt\n",
    "import requests\n",
    "from sklearn import svm\n",
    "import numpy as np"
   ]
  },
  {
   "cell_type": "code",
   "execution_count": 2,
   "metadata": {},
   "outputs": [
    {
     "data": {
      "text/plain": [
       "(610493, 22)"
      ]
     },
     "execution_count": 2,
     "metadata": {},
     "output_type": "execute_result"
    }
   ],
   "source": [
    "df = pd.read_csv('Chicago-Crimes-2017-2019.csv')\n",
    "df = df.drop(columns=['Unnamed: 0'], axis=1)\n",
    "df_socio = pd.read_csv('Census_Data_-_Selected_socioeconomic_indicators_in_Chicago__2008___2012.csv');\n",
    "df.shape"
   ]
  },
  {
   "cell_type": "code",
   "execution_count": 3,
   "metadata": {},
   "outputs": [],
   "source": [
    "#Convert date column type to pandas datetime\n",
    "df['date'] = pd.to_datetime(df['date'], format='%Y-%m-%d %H:%M:%S', errors='raise')\n",
    "\n",
    "#EXtract date only from date\n",
    "df['date_only'] = df['date'].dt.date\n",
    "\n",
    "#Get community area name from socio economy dataset\n",
    "df = df.join(df_socio[['Community Area Number', 'COMMUNITY AREA NAME']].set_index('Community Area Number'), on=\"community_area\")\n",
    "df = df.rename(index=str, columns={\"COMMUNITY AREA NAME\": \"community_area_name\"})"
   ]
  },
  {
   "cell_type": "code",
   "execution_count": 4,
   "metadata": {},
   "outputs": [],
   "source": [
    "# remove district 31 data as it's invalid\n",
    "df_district_31 = df[df['district'] == 31]\n",
    "df.drop(index = df_district_31.index, inplace=True)\n",
    "\n",
    "# remove community area 0 as it's invalid\n",
    "df_comm_area_0 = df[df['community_area'] == 0]\n",
    "df.drop(index = df_comm_area_0.index, inplace=True)"
   ]
  },
  {
   "cell_type": "code",
   "execution_count": 5,
   "metadata": {},
   "outputs": [
    {
     "data": {
      "text/html": [
       "<div>\n",
       "<style scoped>\n",
       "    .dataframe tbody tr th:only-of-type {\n",
       "        vertical-align: middle;\n",
       "    }\n",
       "\n",
       "    .dataframe tbody tr th {\n",
       "        vertical-align: top;\n",
       "    }\n",
       "\n",
       "    .dataframe thead th {\n",
       "        text-align: right;\n",
       "    }\n",
       "</style>\n",
       "<table border=\"1\" class=\"dataframe\">\n",
       "  <thead>\n",
       "    <tr style=\"text-align: right;\">\n",
       "      <th></th>\n",
       "      <th>arrest</th>\n",
       "      <th>beat</th>\n",
       "      <th>block</th>\n",
       "      <th>case_number</th>\n",
       "      <th>community_area</th>\n",
       "      <th>date</th>\n",
       "      <th>description</th>\n",
       "      <th>district</th>\n",
       "      <th>domestic</th>\n",
       "      <th>fbi_code</th>\n",
       "      <th>...</th>\n",
       "      <th>location_description</th>\n",
       "      <th>longitude</th>\n",
       "      <th>primary_type</th>\n",
       "      <th>updated_on</th>\n",
       "      <th>ward</th>\n",
       "      <th>x_coordinate</th>\n",
       "      <th>y_coordinate</th>\n",
       "      <th>year</th>\n",
       "      <th>date_only</th>\n",
       "      <th>community_area_name</th>\n",
       "    </tr>\n",
       "  </thead>\n",
       "  <tbody>\n",
       "    <tr>\n",
       "      <th>0</th>\n",
       "      <td>False</td>\n",
       "      <td>811</td>\n",
       "      <td>063XX S ARCHER AVE</td>\n",
       "      <td>JC244019</td>\n",
       "      <td>56.0</td>\n",
       "      <td>2019-04-28 23:55:00</td>\n",
       "      <td>NON-AGGRAVATED</td>\n",
       "      <td>8.0</td>\n",
       "      <td>False</td>\n",
       "      <td>02</td>\n",
       "      <td>...</td>\n",
       "      <td>APARTMENT</td>\n",
       "      <td>-87.778802</td>\n",
       "      <td>CRIM SEXUAL ASSAULT</td>\n",
       "      <td>2019-05-05T16:05:28.000</td>\n",
       "      <td>23.0</td>\n",
       "      <td>1135466.0</td>\n",
       "      <td>1867706.0</td>\n",
       "      <td>2019</td>\n",
       "      <td>2019-04-28</td>\n",
       "      <td>Garfield Ridge</td>\n",
       "    </tr>\n",
       "    <tr>\n",
       "      <th>1</th>\n",
       "      <td>False</td>\n",
       "      <td>222</td>\n",
       "      <td>016XX E HYDE PARK BLVD</td>\n",
       "      <td>JC242207</td>\n",
       "      <td>39.0</td>\n",
       "      <td>2019-04-28 23:54:00</td>\n",
       "      <td>VIOLATE ORDER OF PROTECTION</td>\n",
       "      <td>2.0</td>\n",
       "      <td>True</td>\n",
       "      <td>26</td>\n",
       "      <td>...</td>\n",
       "      <td>RESIDENCE</td>\n",
       "      <td>-87.586041</td>\n",
       "      <td>OTHER OFFENSE</td>\n",
       "      <td>2019-05-05T16:05:28.000</td>\n",
       "      <td>5.0</td>\n",
       "      <td>1188001.0</td>\n",
       "      <td>1871507.0</td>\n",
       "      <td>2019</td>\n",
       "      <td>2019-04-28</td>\n",
       "      <td>Kenwood</td>\n",
       "    </tr>\n",
       "    <tr>\n",
       "      <th>2</th>\n",
       "      <td>False</td>\n",
       "      <td>511</td>\n",
       "      <td>002XX W 103RD ST</td>\n",
       "      <td>JC242231</td>\n",
       "      <td>49.0</td>\n",
       "      <td>2019-04-28 23:53:00</td>\n",
       "      <td>ARMED: HANDGUN</td>\n",
       "      <td>5.0</td>\n",
       "      <td>False</td>\n",
       "      <td>03</td>\n",
       "      <td>...</td>\n",
       "      <td>GAS STATION</td>\n",
       "      <td>-87.628834</td>\n",
       "      <td>ROBBERY</td>\n",
       "      <td>2019-05-05T16:05:28.000</td>\n",
       "      <td>9.0</td>\n",
       "      <td>1176618.0</td>\n",
       "      <td>1836644.0</td>\n",
       "      <td>2019</td>\n",
       "      <td>2019-04-28</td>\n",
       "      <td>Roseland</td>\n",
       "    </tr>\n",
       "    <tr>\n",
       "      <th>3</th>\n",
       "      <td>True</td>\n",
       "      <td>2513</td>\n",
       "      <td>016XX N MC VICKER AVE</td>\n",
       "      <td>JC242213</td>\n",
       "      <td>25.0</td>\n",
       "      <td>2019-04-28 23:46:00</td>\n",
       "      <td>DOMESTIC BATTERY SIMPLE</td>\n",
       "      <td>25.0</td>\n",
       "      <td>True</td>\n",
       "      <td>08B</td>\n",
       "      <td>...</td>\n",
       "      <td>APARTMENT</td>\n",
       "      <td>-87.776463</td>\n",
       "      <td>BATTERY</td>\n",
       "      <td>2019-05-05T16:05:28.000</td>\n",
       "      <td>29.0</td>\n",
       "      <td>1135828.0</td>\n",
       "      <td>1910278.0</td>\n",
       "      <td>2019</td>\n",
       "      <td>2019-04-28</td>\n",
       "      <td>Austin</td>\n",
       "    </tr>\n",
       "    <tr>\n",
       "      <th>4</th>\n",
       "      <td>False</td>\n",
       "      <td>2523</td>\n",
       "      <td>028XX N LOWELL AVE</td>\n",
       "      <td>JC242206</td>\n",
       "      <td>20.0</td>\n",
       "      <td>2019-04-28 23:45:00</td>\n",
       "      <td>TO VEHICLE</td>\n",
       "      <td>25.0</td>\n",
       "      <td>False</td>\n",
       "      <td>14</td>\n",
       "      <td>...</td>\n",
       "      <td>STREET</td>\n",
       "      <td>-87.735592</td>\n",
       "      <td>CRIMINAL DAMAGE</td>\n",
       "      <td>2019-05-05T16:05:28.000</td>\n",
       "      <td>31.0</td>\n",
       "      <td>1146896.0</td>\n",
       "      <td>1918517.0</td>\n",
       "      <td>2019</td>\n",
       "      <td>2019-04-28</td>\n",
       "      <td>Hermosa</td>\n",
       "    </tr>\n",
       "  </tbody>\n",
       "</table>\n",
       "<p>5 rows × 24 columns</p>\n",
       "</div>"
      ],
      "text/plain": [
       "   arrest  beat                   block case_number  community_area  \\\n",
       "0   False   811      063XX S ARCHER AVE    JC244019            56.0   \n",
       "1   False   222  016XX E HYDE PARK BLVD    JC242207            39.0   \n",
       "2   False   511        002XX W 103RD ST    JC242231            49.0   \n",
       "3    True  2513   016XX N MC VICKER AVE    JC242213            25.0   \n",
       "4   False  2523      028XX N LOWELL AVE    JC242206            20.0   \n",
       "\n",
       "                 date                  description  district  domestic  \\\n",
       "0 2019-04-28 23:55:00               NON-AGGRAVATED       8.0     False   \n",
       "1 2019-04-28 23:54:00  VIOLATE ORDER OF PROTECTION       2.0      True   \n",
       "2 2019-04-28 23:53:00               ARMED: HANDGUN       5.0     False   \n",
       "3 2019-04-28 23:46:00      DOMESTIC BATTERY SIMPLE      25.0      True   \n",
       "4 2019-04-28 23:45:00                   TO VEHICLE      25.0     False   \n",
       "\n",
       "  fbi_code  ...  location_description  longitude         primary_type  \\\n",
       "0       02  ...             APARTMENT -87.778802  CRIM SEXUAL ASSAULT   \n",
       "1       26  ...             RESIDENCE -87.586041        OTHER OFFENSE   \n",
       "2       03  ...           GAS STATION -87.628834              ROBBERY   \n",
       "3      08B  ...             APARTMENT -87.776463              BATTERY   \n",
       "4       14  ...                STREET -87.735592      CRIMINAL DAMAGE   \n",
       "\n",
       "                updated_on  ward  x_coordinate y_coordinate  year   date_only  \\\n",
       "0  2019-05-05T16:05:28.000  23.0     1135466.0    1867706.0  2019  2019-04-28   \n",
       "1  2019-05-05T16:05:28.000   5.0     1188001.0    1871507.0  2019  2019-04-28   \n",
       "2  2019-05-05T16:05:28.000   9.0     1176618.0    1836644.0  2019  2019-04-28   \n",
       "3  2019-05-05T16:05:28.000  29.0     1135828.0    1910278.0  2019  2019-04-28   \n",
       "4  2019-05-05T16:05:28.000  31.0     1146896.0    1918517.0  2019  2019-04-28   \n",
       "\n",
       "   community_area_name  \n",
       "0       Garfield Ridge  \n",
       "1              Kenwood  \n",
       "2             Roseland  \n",
       "3               Austin  \n",
       "4              Hermosa  \n",
       "\n",
       "[5 rows x 24 columns]"
      ]
     },
     "execution_count": 5,
     "metadata": {},
     "output_type": "execute_result"
    }
   ],
   "source": [
    "df.head()"
   ]
  },
  {
   "cell_type": "code",
   "execution_count": 6,
   "metadata": {},
   "outputs": [
    {
     "data": {
      "text/plain": [
       "<matplotlib.axes._subplots.AxesSubplot at 0x7fdbd3a77cc0>"
      ]
     },
     "execution_count": 6,
     "metadata": {},
     "output_type": "execute_result"
    },
    {
     "data": {
      "image/png": "[encoded data removed]",
      "text/plain": [
       "<Figure size 432x288 with 1 Axes>"
      ]
     },
     "metadata": {
      "needs_background": "light"
     },
     "output_type": "display_data"
    }
   ],
   "source": [
    "# Plot number of crime incidents all districts\n",
    "df_count_district = df['district'].value_counts().to_frame()\n",
    "df_count_district.columns = ['total_crimes']\n",
    "df_count_district['district'] = df_count_district.index\n",
    "df_count_district.sort_values(by=['district'], ascending=True, inplace=True)\n",
    "df_count_district.plot(kind='bar', y='total_crimes', x='district', title='Number of Crimes Each Chicago District 2017-2019')"
   ]
  },
  {
   "cell_type": "code",
   "execution_count": 8,
   "metadata": {},
   "outputs": [
    {
     "data": {
      "text/plain": [
       "<matplotlib.axes._subplots.AxesSubplot at 0x7f29854716d8>"
      ]
     },
     "execution_count": 8,
     "metadata": {},
     "output_type": "execute_result"
    },
    {
     "data": {
      "image/png": "[encoded data removed]",
      "text/plain": [
       "<Figure size 1440x720 with 1 Axes>"
      ]
     },
     "metadata": {
      "needs_background": "light"
     },
     "output_type": "display_data"
    }
   ],
   "source": [
    "# Plot number of crime incidents in all community areas\n",
    "df_count_community_area = df['community_area_name'].value_counts().to_frame()\n",
    "df_count_community_area.columns = ['total_crimes']\n",
    "df_count_community_area['community_area_name'] = df_count_community_area.index\n",
    "#df_count_community_area.sort_values(by=['Community Area'], ascending=True, inplace=True)\n",
    "df_count_community_area.plot(kind='bar', y='total_crimes', x='community_area_name', \\\n",
    "                             figsize=(20,10), \\\n",
    "                             title='Number of Crimes Each Chicago Community Area 2017-2019')"
   ]
  },
  {
   "cell_type": "code",
   "execution_count": 7,
   "metadata": {},
   "outputs": [],
   "source": [
    "# Remove data without coordinates\n",
    "df_without_coords = df[df[['latitude', 'longitude']].isna().all(1)]\n",
    "df.drop(index=df_without_coords.index, inplace=True)"
   ]
  },
  {
   "cell_type": "code",
   "execution_count": 8,
   "metadata": {},
   "outputs": [],
   "source": [
    "# Extract hour and day of week from date\n",
    "df['hour'] = pd.to_numeric(df['date'].dt.hour)\n",
    "df['day_of_week'] = df['date'].dt.dayofweek"
   ]
  },
  {
   "cell_type": "code",
   "execution_count": 9,
   "metadata": {},
   "outputs": [
    {
     "data": {
      "text/plain": [
       "<matplotlib.axes._subplots.AxesSubplot at 0x7fdbd2a59438>"
      ]
     },
     "execution_count": 9,
     "metadata": {},
     "output_type": "execute_result"
    },
    {
     "data": {
      "image/png": "[encoded data removed]",
      "text/plain": [
       "<Figure size 1440x720 with 1 Axes>"
      ]
     },
     "metadata": {
      "needs_background": "light"
     },
     "output_type": "display_data"
    }
   ],
   "source": [
    "# Plot number of crime incidents all hours\n",
    "df_count_hour = df['hour'].value_counts().to_frame()\n",
    "df_count_hour.columns = ['total_crimes']\n",
    "df_count_hour['hour'] = df_count_hour.index\n",
    "df_count_hour.sort_values(by=['hour'], ascending=True, inplace=True)\n",
    "df_count_hour.plot(kind='bar', y='total_crimes', x='hour', \\\n",
    "                             figsize=(20,10))"
   ]
  },
  {
   "cell_type": "code",
   "execution_count": 10,
   "metadata": {},
   "outputs": [
    {
     "data": {
      "text/plain": [
       "<matplotlib.axes._subplots.AxesSubplot at 0x7fdbd2a2fa20>"
      ]
     },
     "execution_count": 10,
     "metadata": {},
     "output_type": "execute_result"
    },
    {
     "data": {
      "image/png": "[encoded data removed]",
      "text/plain": [
       "<Figure size 432x288 with 1 Axes>"
      ]
     },
     "metadata": {
      "needs_background": "light"
     },
     "output_type": "display_data"
    }
   ],
   "source": [
    "# Plot number of crime incidents all days of week\n",
    "def set_day_name(day_of_week):\n",
    "    if day_of_week == 0:\n",
    "        return 'Mon'\n",
    "    if day_of_week == 1:\n",
    "        return 'Tue'\n",
    "    if day_of_week == 2:\n",
    "        return 'Wed'\n",
    "    if day_of_week == 3:\n",
    "        return 'Thur'\n",
    "    if day_of_week == 4:\n",
    "        return 'Fri'\n",
    "    if day_of_week == 5:\n",
    "        return 'Sat'\n",
    "    if day_of_week == 6:\n",
    "        return 'Sun'\n",
    "\n",
    "df_count_day = df['day_of_week'].value_counts().to_frame()\n",
    "df_count_day.columns = ['total_crimes']\n",
    "df_count_day['day_of_week'] = df_count_day.index\n",
    "df_count_day.sort_values(by=['day_of_week'], ascending=True, inplace=True)\n",
    "df_count_day['day_of_week'] = df_count_day['day_of_week'].apply(set_day_name)\n",
    "df_count_day.plot(kind='line', y='total_crimes', x='day_of_week')"
   ]
  },
  {
   "cell_type": "code",
   "execution_count": 11,
   "metadata": {},
   "outputs": [
    {
     "data": {
      "text/plain": [
       "<matplotlib.axes._subplots.AxesSubplot at 0x7fdbd19238d0>"
      ]
     },
     "execution_count": 11,
     "metadata": {},
     "output_type": "execute_result"
    },
    {
     "data": {
      "image/png": "[encoded data removed]",
      "text/plain": [
       "<Figure size 1440x720 with 1 Axes>"
      ]
     },
     "metadata": {
      "needs_background": "light"
     },
     "output_type": "display_data"
    }
   ],
   "source": [
    "# Plot number of crime incidents all hour categories\n",
    "def hour_category(hour) :\n",
    "    if(hour >= 0 and hour <= 5):\n",
    "        return '0-5'\n",
    "    elif(hour >= 6 and hour <= 11):\n",
    "        return '6-11'\n",
    "    elif(hour >= 12 and hour <= 17):\n",
    "        return '12-17'\n",
    "    elif(hour >= 18 and hour <= 23):\n",
    "        return '18-23'\n",
    "\n",
    "df['hour_category'] = df['hour'].apply(hour_category)\n",
    "\n",
    "df_count_hour = df['hour_category'].value_counts().to_frame()\n",
    "df_count_hour.columns = ['total_crimes']\n",
    "df_count_hour['hour_category'] = df_count_hour.index\n",
    "df_count_hour.sort_values(by=['hour_category'], ascending=True, inplace=True)\n",
    "df_count_hour.plot(kind='bar', y='total_crimes', x='hour_category', \\\n",
    "                             figsize=(20,10))"
   ]
  },
  {
   "cell_type": "code",
   "execution_count": 12,
   "metadata": {},
   "outputs": [
    {
     "data": {
      "text/plain": [
       "<matplotlib.axes._subplots.AxesSubplot at 0x7fdbd1909358>"
      ]
     },
     "execution_count": 12,
     "metadata": {},
     "output_type": "execute_result"
    },
    {
     "data": {
      "image/png": "[encoded data removed]",
      "text/plain": [
       "<Figure size 432x288 with 1 Axes>"
      ]
     },
     "metadata": {
      "needs_background": "light"
     },
     "output_type": "display_data"
    }
   ],
   "source": [
    "# Plot number of crime incidents all months of the year\n",
    "df['month_of_year'] = df['date'].dt.month\n",
    "df_count_month = df['month_of_year'].value_counts().to_frame()\n",
    "df_count_month.columns = ['total_crimes']\n",
    "df_count_month['month_of_year'] = df_count_month.index\n",
    "df_count_month.sort_values(by=['month_of_year'], ascending=True, inplace=True)\n",
    "df_count_month.plot(kind='bar', y='total_crimes', x='month_of_year')"
   ]
  },
  {
   "cell_type": "markdown",
   "metadata": {},
   "source": [
    "# Build a Machine Learning Model"
   ]
  },
  {
   "cell_type": "code",
   "execution_count": 14,
   "metadata": {},
   "outputs": [],
   "source": [
    "from math import sqrt\n",
    "from sklearn.model_selection import train_test_split\n",
    "from sklearn.neighbors import KNeighborsClassifier\n",
    "from sklearn.linear_model import (\n",
    "    LinearRegression, SGDRegressor)\n",
    "from sklearn import metrics\n",
    "from sklearn.metrics import mean_squared_error\n",
    "from sklearn.pipeline import make_pipeline\n",
    "from sklearn.preprocessing import PolynomialFeatures\n",
    "from sklearn.svm import LinearSVR\n",
    "from sklearn import svm\n",
    "from sklearn.linear_model import ElasticNet\n",
    "from sklearn.neighbors import KNeighborsRegressor"
   ]
  },
  {
   "cell_type": "code",
   "execution_count": 13,
   "metadata": {},
   "outputs": [
    {
     "data": {
      "text/plain": [
       "count    229564.000000\n",
       "mean          2.629101\n",
       "std           2.316935\n",
       "min           1.000000\n",
       "25%           1.000000\n",
       "50%           2.000000\n",
       "75%           3.000000\n",
       "max          81.000000\n",
       "Name: case_number, dtype: float64"
      ]
     },
     "execution_count": 13,
     "metadata": {},
     "output_type": "execute_result"
    }
   ],
   "source": [
    "model_data = df.groupby(['date_only', 'day_of_week', 'hour_category', 'district', 'community_area_name'])['case_number'].count().reset_index()\n",
    "model_data = pd.get_dummies(model_data, columns=['hour_category', 'day_of_week', 'district', 'community_area_name'])\n",
    "model_data['case_number'].describe()"
   ]
  },
  {
   "cell_type": "code",
   "execution_count": 15,
   "metadata": {},
   "outputs": [
    {
     "data": {
      "text/plain": [
       "(229564, 111)"
      ]
     },
     "execution_count": 15,
     "metadata": {},
     "output_type": "execute_result"
    }
   ],
   "source": [
    "# Construct feature variables\n",
    "X_columns = pd.Index([])\n",
    "\n",
    "hour_category_columns = [col for col in model_data if col.startswith('hour_category')]\n",
    "day_of_week_columns = [col for col in model_data if col.startswith('day_of_week')]\n",
    "community_area_name_columns = [col for col in model_data if col.startswith('community_area_name')]\n",
    "district_columns = [col for col in model_data if col.startswith('district')]\n",
    "\n",
    "X_columns = X_columns.append(pd.Index(hour_category_columns))\n",
    "X_columns = X_columns.append(pd.Index(day_of_week_columns))\n",
    "X_columns = X_columns.append(pd.Index(community_area_name_columns))\n",
    "X_columns = X_columns.append(pd.Index(district_columns))\n",
    "X_data = model_data[X_columns]\n",
    "X_data.shape"
   ]
  },
  {
   "cell_type": "code",
   "execution_count": 16,
   "metadata": {},
   "outputs": [
    {
     "data": {
      "text/plain": [
       "(229564,)"
      ]
     },
     "execution_count": 16,
     "metadata": {},
     "output_type": "execute_result"
    }
   ],
   "source": [
    "# Construct target variable\n",
    "y_data = model_data['case_number']\n",
    "y_data.shape"
   ]
  },
  {
   "cell_type": "code",
   "execution_count": 17,
   "metadata": {},
   "outputs": [],
   "source": [
    "# Split train data (70%) and test data (30%)\n",
    "X_train, X_test, y_train, y_test = train_test_split(X_data, y_data.values, test_size=0.3, random_state=42)"
   ]
  },
  {
   "cell_type": "markdown",
   "metadata": {},
   "source": [
    "## Regression Model"
   ]
  },
  {
   "cell_type": "code",
   "execution_count": 18,
   "metadata": {},
   "outputs": [
    {
     "name": "stdout",
     "output_type": "stream",
     "text": [
      "Name:  LinearSVR\n",
      "RMSE:  1.8296860286082628\n",
      "Name:  KNN Regressor\n",
      "RMSE:  1.6888178428721579\n",
      "Name:  SGDRegressor\n",
      "RMSE:  1.7674171386540578\n",
      "Name:  ElasticNet\n",
      "RMSE:  2.3107326749953936\n"
     ]
    }
   ],
   "source": [
    "# Compare the performance of models\n",
    "estimators = [('LinearSVR', LinearSVR(random_state=42)),\n",
    "              ('KNN Regressor', KNeighborsRegressor(n_neighbors=5)),\n",
    "              ('SGDRegressor', SGDRegressor(random_state=42, max_iter=1000, tol=1e-3)),\n",
    "              ('ElasticNet', ElasticNet(random_state=42, alpha=0.5))]\n",
    "\n",
    "for name, estimator in estimators:\n",
    "    model = estimator\n",
    "    model.fit(X_train, y_train)\n",
    "    rmse = sqrt(mean_squared_error(model.predict(X_test), y_test))\n",
    "    print(\"Name: \", name)\n",
    "    print(\"RMSE: \", rmse)"
   ]
  },
  {
   "cell_type": "code",
   "execution_count": 19,
   "metadata": {},
   "outputs": [
    {
     "data": {
      "text/plain": [
       "SGDRegressor(alpha=0.0001, average=False, early_stopping=False, epsilon=0.1,\n",
       "       eta0=0.01, fit_intercept=True, l1_ratio=0.15,\n",
       "       learning_rate='invscaling', loss='squared_loss', max_iter=1000,\n",
       "       n_iter=None, n_iter_no_change=5, penalty='l2', power_t=0.25,\n",
       "       random_state=42, shuffle=True, tol=0.001, validation_fraction=0.1,\n",
       "       verbose=0, warm_start=False)"
      ]
     },
     "execution_count": 19,
     "metadata": {},
     "output_type": "execute_result"
    }
   ],
   "source": [
    "model = SGDRegressor(random_state=42, max_iter=1000, tol=1e-3)\n",
    "model.fit(X_data, y_data)"
   ]
  },
  {
   "cell_type": "markdown",
   "metadata": {},
   "source": [
    "### Predict the Highest Crime Rate Community Area Each District and Common Nearby Venues"
   ]
  },
  {
   "cell_type": "code",
   "execution_count": 24,
   "metadata": {},
   "outputs": [
    {
     "name": "stdout",
     "output_type": "stream",
     "text": [
      "Your credentails:\n",
      "CLIENT_ID: Client ID\n",
      "CLIENT_SECRET:Secret ID\n"
     ]
    }
   ],
   "source": [
    "LIMIT = 100\n",
    "CLIENT_ID = 'Client ID' # your Foursquare ID\n",
    "CLIENT_SECRET = 'Secret ID' # your Foursquare Secret\n",
    "VERSION = '20180605' # Foursquare API version\n",
    "\n",
    "print('Your credentails:')\n",
    "print('CLIENT_ID: ' + CLIENT_ID)\n",
    "print('CLIENT_SECRET:' + CLIENT_SECRET)\n",
    "\n",
    "def getNearbyVenues(names, latitudes, longitudes, radius=100):\n",
    "    \n",
    "    venues_list=[]\n",
    "    for name, lat, lng in zip(names, latitudes, longitudes):\n",
    "        # create the API request URL\n",
    "        url = 'https://api.foursquare.com/v2/venues/explore?&client_id={}&client_secret={}&v={}&ll={},{}&radius={}&limit={}'.format(\n",
    "            CLIENT_ID, \n",
    "            CLIENT_SECRET, \n",
    "            VERSION, \n",
    "            lat, \n",
    "            lng, \n",
    "            radius, \n",
    "            LIMIT)\n",
    "            \n",
    "        # make the GET request\n",
    "        results = requests.get(url).json()[\"response\"]\n",
    "        \n",
    "        if not results :\n",
    "            print('empty !')\n",
    "            continue\n",
    "        \n",
    "        results = results['groups'][0]['items']\n",
    "        \n",
    "        # return only relevant information for each nearby venue\n",
    "        venues_list.append([(\n",
    "            name, \n",
    "            lat, \n",
    "            lng, \n",
    "            v['venue']['name'], \n",
    "            v['venue']['location']['lat'], \n",
    "            v['venue']['location']['lng'],  \n",
    "            v['venue']['categories'][0]['name']) for v in results])\n",
    "\n",
    "    nearby_venues = pd.DataFrame([item for venue_list in venues_list for item in venue_list])\n",
    "    nearby_venues.columns = ['case_number', \n",
    "                  'Incident Latitude', \n",
    "                  'Incident Longitude', \n",
    "                  'Venue', \n",
    "                  'Venue Latitude', \n",
    "                  'Venue Longitude', \n",
    "                  'Venue Category']\n",
    "    \n",
    "    return(nearby_venues)"
   ]
  },
  {
   "cell_type": "code",
   "execution_count": 21,
   "metadata": {},
   "outputs": [],
   "source": [
    "incident_merged = pd.DataFrame()\n",
    "def predict(date, hour_category):\n",
    "    print('Prediction of incidents number for each community area, date:', date, ', hour:', hour_category)\n",
    "    df_grouped = df.groupby(['district', 'community_area_name'])['case_number'].count().reset_index()\n",
    "    districts = df_grouped['district'].unique()\n",
    "    day_of_week = pd.to_datetime(date).dayofweek\n",
    "    for district in districts :\n",
    "        areas = df_grouped[df_grouped['district'] == district]['community_area_name'].unique()\n",
    "        \n",
    "        print('District: ', int(district))\n",
    "        max_pred = 0\n",
    "        area_max_rate = ''\n",
    "        for area in areas :\n",
    "            data = np.zeros((1, len(X_columns)))\n",
    "            X_features = pd.DataFrame(data, columns=X_columns, index=[0])\n",
    "            X_features.iloc[0]['day_of_week_' + str(day_of_week)] = 1\n",
    "            X_features.iloc[0]['community_area_name_' + area] = 1\n",
    "            X_features.iloc[0]['hour_category_'+hour_category] = 1     \n",
    "            y_pred = model.predict(X_features)[0]\n",
    "            \n",
    "            district_comm_area_incidents = df[(df['district'] == district) & \\\n",
    "                                          (df['community_area_name'] == area) & \\\n",
    "                                          (df['day_of_week']==day_of_week) & \\\n",
    "                                          (df['hour_category']==hour_category)]\n",
    "            \n",
    "            if len(district_comm_area_incidents.index) == 0:\n",
    "                temp_df = df[(df['district'] == district) & \\\n",
    "                                          (df['community_area_name'] == area) & \\\n",
    "                                          (df['hour_category']==hour_category)].groupby('date_only')['case_number'].count().reset_index()\n",
    "                y_pred = temp_df['case_number'].mean()\n",
    "                if len(temp_df.index) == 0:\n",
    "                    y_pred = 0\n",
    "            \n",
    "            if y_pred > max_pred:\n",
    "                max_pred = y_pred\n",
    "                area_max_rate = area\n",
    "                \n",
    "            print('---Community Area: ' + area + \", predicted number of incident : \" + str(y_pred))            \n",
    "        \n",
    "        \n",
    "        print('Predicted community area with highest incident number : ' + area_max_rate + ', with number of incidents: ' + str(int(round(max_pred))))\n",
    "        district_comm_area_incidents = df[(df['district'] == district) & \\\n",
    "                                          (df['community_area_name'] == area_max_rate) & \\\n",
    "                                          (df['day_of_week']==day_of_week) & \\\n",
    "                                          (df['hour_category']==hour_category)]\n",
    "        \n",
    "        incident_venues = getNearbyVenues(names=district_comm_area_incidents['case_number'].tail(50),\n",
    "                                         latitudes=district_comm_area_incidents['latitude'].tail(50),\n",
    "                                         longitudes=district_comm_area_incidents['longitude'].tail(50))\n",
    "        \n",
    "        incident_venues = pd.get_dummies(incident_venues[['case_number', 'Venue Category']], columns=['Venue Category'], prefix=\"\", prefix_sep=\"\")\n",
    "        incident_merged = pd.merge(district_comm_area_incidents[['case_number', 'district', 'community_area_name', 'day_of_week', 'hour_category']], \\\n",
    "                                   incident_venues, on='case_number', how='outer')\n",
    "        incident_merged = incident_merged.groupby(['district', 'community_area_name', 'day_of_week', 'hour_category']).mean().reset_index();\n",
    "        \n",
    "        # Print top 5 most common places\n",
    "        num_top_venues = 5\n",
    "\n",
    "        print(\"Top 5 common nearby venues (radius 100 metres)\")\n",
    "        temp = incident_merged.T.reset_index()\n",
    "        temp.columns = ['venue','freq']\n",
    "        temp = temp.iloc[4:]\n",
    "        temp['freq'] = temp['freq'].astype(float)\n",
    "        temp = temp.round({'freq': 2})\n",
    "        print(temp.sort_values('freq', ascending=False).reset_index(drop=True).head(num_top_venues))\n",
    "        print('\\n')\n",
    "        \n",
    "        \n",
    "        print('\\n')"
   ]
  },
  {
   "cell_type": "code",
   "execution_count": 22,
   "metadata": {},
   "outputs": [
    {
     "name": "stdout",
     "output_type": "stream",
     "text": [
      "Prediction of incidents number for each community area, date: 2019-05-10 , hour: 18-23\n",
      "District:  1\n",
      "---Community Area: Armour Square, predicted number of incident : 2.3235137810103677\n",
      "---Community Area: Douglas, predicted number of incident : 2.5395488840941756\n",
      "---Community Area: East Garfield Park, predicted number of incident : 0\n",
      "---Community Area: Loop, predicted number of incident : 8.855660551750738\n",
      "---Community Area: Near South Side, predicted number of incident : 3.156256121354368\n",
      "---Community Area: Near West Side, predicted number of incident : 3.710297850544273\n",
      "Predicted community area with highest incident number : Loop, with number of incidents: 9\n",
      "Top 5 common nearby venues (radius 100 metres)\n",
      "                venue  freq\n",
      "0               Hotel  0.08\n",
      "1         Coffee Shop  0.07\n",
      "2      Sandwich Place  0.06\n",
      "3  Italian Restaurant  0.03\n",
      "4  Seafood Restaurant  0.03\n",
      "\n",
      "\n",
      "\n",
      "\n",
      "District:  2\n",
      "---Community Area: Armour Square, predicted number of incident : 1.0\n",
      "---Community Area: Douglas, predicted number of incident : 2.5395488840941756\n",
      "---Community Area: Englewood, predicted number of incident : 3.758803833759994\n",
      "---Community Area: Fuller Park, predicted number of incident : 2.0397036960388135\n",
      "---Community Area: Grand Boulevard, predicted number of incident : 3.1977206675991323\n",
      "---Community Area: Greater Grand Crossing, predicted number of incident : 1.0\n",
      "---Community Area: Hyde Park, predicted number of incident : 2.345991274454128\n",
      "---Community Area: Kenwood, predicted number of incident : 2.233168247631974\n",
      "---Community Area: Logan Square, predicted number of incident : 0\n",
      "---Community Area: Oakland, predicted number of incident : 1.8432874641351147\n",
      "---Community Area: Riverdale, predicted number of incident : 0\n",
      "---Community Area: Washington Park, predicted number of incident : 2.189733421845695\n",
      "---Community Area: Woodlawn, predicted number of incident : 2.947916725402425\n",
      "Predicted community area with highest incident number : Englewood, with number of incidents: 4\n",
      "Top 5 common nearby venues (radius 100 metres)\n",
      "                  venue  freq\n",
      "0            Water Park  0.43\n",
      "1              Bus Line  0.14\n",
      "2           Bus Station  0.14\n",
      "3  Fast Food Restaurant  0.14\n",
      "4    Light Rail Station  0.14\n",
      "\n",
      "\n",
      "\n",
      "\n",
      "District:  3\n",
      "---Community Area: Englewood, predicted number of incident : 3.758803833759994\n",
      "---Community Area: Greater Grand Crossing, predicted number of incident : 2.2231948151217336\n",
      "---Community Area: Hyde Park, predicted number of incident : 2.345991274454128\n",
      "---Community Area: South Shore, predicted number of incident : 3.774397683246899\n",
      "---Community Area: Washington Park, predicted number of incident : 2.189733421845695\n",
      "---Community Area: Woodlawn, predicted number of incident : 2.947916725402425\n",
      "Predicted community area with highest incident number : South Shore, with number of incidents: 4\n",
      "Top 5 common nearby venues (radius 100 metres)\n",
      "                  venue  freq\n",
      "0     Currency Exchange  0.09\n",
      "1  Fast Food Restaurant  0.07\n",
      "2           Bus Station  0.07\n",
      "3   Fried Chicken Joint  0.07\n",
      "4        Sandwich Place  0.07\n",
      "\n",
      "\n",
      "\n",
      "\n",
      "District:  4\n",
      "---Community Area: Avalon Park, predicted number of incident : 2.459281603727085\n",
      "---Community Area: Burnside, predicted number of incident : 2.135502397363075\n",
      "---Community Area: Calumet Heights, predicted number of incident : 2.565590479976358\n",
      "---Community Area: Chatham, predicted number of incident : 1.0\n",
      "---Community Area: East Side, predicted number of incident : 2.4430102365612503\n",
      "---Community Area: Greater Grand Crossing, predicted number of incident : 1.0\n",
      "---Community Area: Hegewisch, predicted number of incident : 2.270134973624275\n",
      "---Community Area: South Chicago, predicted number of incident : 4.205115213358251\n",
      "---Community Area: South Deering, predicted number of incident : 2.3763445500418365\n",
      "---Community Area: South Shore, predicted number of incident : 3.774397683246899\n",
      "Predicted community area with highest incident number : South Chicago, with number of incidents: 4\n",
      "Top 5 common nearby venues (radius 100 metres)\n",
      "                  venue  freq\n",
      "0   American Restaurant  0.08\n",
      "1  Fast Food Restaurant  0.08\n",
      "2           Pizza Place  0.08\n",
      "3                Lounge  0.08\n",
      "4          Liquor Store  0.05\n",
      "\n",
      "\n",
      "\n",
      "\n",
      "District:  5\n",
      "---Community Area: Chicago Lawn, predicted number of incident : 0\n",
      "---Community Area: Pullman, predicted number of incident : 1.0327244821444173\n",
      "---Community Area: Riverdale, predicted number of incident : 1.0932391355019717\n",
      "---Community Area: Roseland, predicted number of incident : 2.863535792393951\n",
      "---Community Area: South Deering, predicted number of incident : 2.3763445500418365\n",
      "---Community Area: West Pullman, predicted number of incident : 2.4830509537363774\n",
      "Predicted community area with highest incident number : Roseland, with number of incidents: 3\n",
      "Top 5 common nearby venues (radius 100 metres)\n",
      "                  venue  freq\n",
      "0        Sandwich Place  0.12\n",
      "1        Discount Store  0.07\n",
      "2        Cosmetics Shop  0.07\n",
      "3  Fast Food Restaurant  0.07\n",
      "4   Fried Chicken Joint  0.05\n",
      "\n",
      "\n",
      "\n",
      "\n",
      "District:  6\n",
      "---Community Area: Ashburn, predicted number of incident : 1.0\n",
      "---Community Area: Auburn Gresham, predicted number of incident : 4.465347782768541\n",
      "---Community Area: Burnside, predicted number of incident : 2.135502397363075\n",
      "---Community Area: Chatham, predicted number of incident : 4.83190520522874\n",
      "---Community Area: Englewood, predicted number of incident : 3.758803833759994\n",
      "---Community Area: Grand Boulevard, predicted number of incident : 1.0\n",
      "---Community Area: Greater Grand Crossing, predicted number of incident : 2.2231948151217336\n",
      "---Community Area: Roseland, predicted number of incident : 2.863535792393951\n",
      "---Community Area: West Englewood, predicted number of incident : 4.724657496188209\n",
      "Predicted community area with highest incident number : Chatham, with number of incidents: 5\n",
      "Top 5 common nearby venues (radius 100 metres)\n",
      "                  venue  freq\n",
      "0  Fast Food Restaurant  0.09\n",
      "1        Sandwich Place  0.08\n",
      "2   Fried Chicken Joint  0.08\n",
      "3            Donut Shop  0.06\n",
      "4         Women's Store  0.05\n",
      "\n",
      "\n",
      "\n",
      "\n",
      "District:  7\n",
      "---Community Area: Ashburn, predicted number of incident : 1.0\n",
      "---Community Area: Englewood, predicted number of incident : 3.758803833759994\n",
      "---Community Area: Greater Grand Crossing, predicted number of incident : 2.2231948151217336\n",
      "---Community Area: Near West Side, predicted number of incident : 0\n",
      "---Community Area: West Englewood, predicted number of incident : 4.724657496188209\n",
      "Predicted community area with highest incident number : West Englewood, with number of incidents: 5\n",
      "Top 5 common nearby venues (radius 100 metres)\n",
      "                  venue  freq\n",
      "0  Fast Food Restaurant  0.15\n",
      "1        Cosmetics Shop  0.11\n",
      "2          Liquor Store  0.11\n",
      "3     Currency Exchange  0.09\n",
      "4        Discount Store  0.09\n",
      "\n",
      "\n",
      "\n",
      "\n",
      "District:  8\n",
      "---Community Area: Archer Heights, predicted number of incident : 2.377542992231243\n",
      "---Community Area: Ashburn, predicted number of incident : 3.1480985026725588\n",
      "---Community Area: Brighton Park, predicted number of incident : 2.6360615513677974\n",
      "---Community Area: Chicago Lawn, predicted number of incident : 5.031908379654212\n",
      "---Community Area: Clearing, predicted number of incident : 2.396768303127111\n",
      "---Community Area: Gage Park, predicted number of incident : 2.4373834002849537\n",
      "---Community Area: Garfield Ridge, predicted number of incident : 2.8957526910063427\n",
      "---Community Area: South Lawndale, predicted number of incident : 2.2047818992691512\n",
      "---Community Area: South Shore, predicted number of incident : 0\n",
      "---Community Area: West Elsdon, predicted number of incident : 2.429712049788228\n",
      "---Community Area: West Lawn, predicted number of incident : 2.827453991465124\n",
      "Predicted community area with highest incident number : Chicago Lawn, with number of incidents: 5\n",
      "Top 5 common nearby venues (radius 100 metres)\n",
      "                venue  freq\n",
      "0  Mexican Restaurant  0.12\n",
      "1         Pizza Place  0.09\n",
      "2         Bus Station  0.07\n",
      "3      Cosmetics Shop  0.07\n",
      "4      Discount Store  0.07\n",
      "\n",
      "\n",
      "\n",
      "\n",
      "District:  9\n",
      "---Community Area: Armour Square, predicted number of incident : 2.3235137810103677\n",
      "---Community Area: Bridgeport, predicted number of incident : 2.5712538665949154\n",
      "---Community Area: Brighton Park, predicted number of incident : 2.6360615513677974\n",
      "---Community Area: CHICAGO, predicted number of incident : 1.0\n",
      "---Community Area: Chicago Lawn, predicted number of incident : 0\n",
      "---Community Area: Douglas, predicted number of incident : 2.5395488840941756\n",
      "---Community Area: Englewood, predicted number of incident : 1.0\n",
      "---Community Area: Fuller Park, predicted number of incident : 2.0397036960388135\n",
      "---Community Area: Gage Park, predicted number of incident : 2.4373834002849537\n",
      "---Community Area: Lower West Side, predicted number of incident : 1.2269199623798035\n",
      "---Community Area: McKinley Park, predicted number of incident : 2.2901632488581076\n",
      "---Community Area: Near South Side, predicted number of incident : 1.0\n",
      "---Community Area: New City, predicted number of incident : 4.1644794820153415\n",
      "---Community Area: South Lawndale, predicted number of incident : 2.2047818992691512\n",
      "---Community Area: West Englewood, predicted number of incident : 1.0\n",
      "Predicted community area with highest incident number : New City, with number of incidents: 4\n",
      "Top 5 common nearby venues (radius 100 metres)\n",
      "                  venue  freq\n",
      "0  Fast Food Restaurant  0.08\n",
      "1    Chinese Restaurant  0.08\n",
      "2           Pizza Place  0.07\n",
      "3   Fried Chicken Joint  0.05\n",
      "4            Shoe Store  0.05\n",
      "\n",
      "\n",
      "\n",
      "\n",
      "District:  10\n",
      "---Community Area: Gage Park, predicted number of incident : 0\n",
      "---Community Area: Garfield Ridge, predicted number of incident : 1.0\n",
      "---Community Area: Lower West Side, predicted number of incident : 1.2269199623798035\n",
      "---Community Area: Near West Side, predicted number of incident : 3.710297850544273\n",
      "---Community Area: North Lawndale, predicted number of incident : 3.3802194714735987\n",
      "---Community Area: South Lawndale, predicted number of incident : 2.2047818992691512\n",
      "---Community Area: West Garfield Park, predicted number of incident : 0\n",
      "Predicted community area with highest incident number : Near West Side, with number of incidents: 4\n",
      "Top 5 common nearby venues (radius 100 metres)\n",
      "                  venue  freq\n",
      "0  Fast Food Restaurant  0.16\n",
      "1            Donut Shop  0.11\n",
      "2   Hawaiian Restaurant  0.11\n",
      "3  Marijuana Dispensary  0.11\n",
      "4       Automotive Shop  0.05\n",
      "\n",
      "\n",
      "\n",
      "\n",
      "District:  11\n",
      "---Community Area: Austin, predicted number of incident : 3.31199808158835\n",
      "---Community Area: East Garfield Park, predicted number of incident : 3.0158358865904598\n",
      "---Community Area: Humboldt park, predicted number of incident : 3.161949443461613\n",
      "---Community Area: Near West Side, predicted number of incident : 3.710297850544273\n",
      "---Community Area: North Lawndale, predicted number of incident : 3.3802194714735987\n",
      "---Community Area: West Garfield Park, predicted number of incident : 4.676123505555738\n",
      "Predicted community area with highest incident number : West Garfield Park, with number of incidents: 5\n",
      "Top 5 common nearby venues (radius 100 metres)\n",
      "                  venue  freq\n",
      "0            Shoe Store  0.24\n",
      "1        Sandwich Place  0.09\n",
      "2   Sporting Goods Shop  0.07\n",
      "3  Fast Food Restaurant  0.07\n",
      "4            Kids Store  0.05\n",
      "\n",
      "\n",
      "\n",
      "\n",
      "District:  12\n",
      "---Community Area: CHICAGO, predicted number of incident : 2.976155556312903\n",
      "---Community Area: East Garfield Park, predicted number of incident : 3.0158358865904598\n",
      "---Community Area: Humboldt park, predicted number of incident : 3.161949443461613\n",
      "---Community Area: Lower West Side, predicted number of incident : 1.2269199623798035\n",
      "---Community Area: Near North Side, predicted number of incident : 0\n",
      "---Community Area: Near West Side, predicted number of incident : 3.710297850544273\n",
      "---Community Area: West Town, predicted number of incident : 3.239997710957687\n",
      "Predicted community area with highest incident number : Near West Side, with number of incidents: 4\n",
      "Top 5 common nearby venues (radius 100 metres)\n",
      "                     venue  freq\n",
      "0              Coffee Shop  0.05\n",
      "1  New American Restaurant  0.05\n",
      "2               Restaurant  0.05\n",
      "3       Italian Restaurant  0.04\n",
      "4                     Café  0.04\n",
      "\n",
      "\n",
      "\n",
      "\n",
      "District:  14\n",
      "---Community Area: Avondale, predicted number of incident : 2.2858115789849838\n",
      "---Community Area: Humboldt park, predicted number of incident : 3.161949443461613\n",
      "---Community Area: Logan Square, predicted number of incident : 3.2801975654233653\n",
      "---Community Area: Lower West Side, predicted number of incident : 1.0\n",
      "---Community Area: West Town, predicted number of incident : 3.239997710957687\n",
      "Predicted community area with highest incident number : Logan Square, with number of incidents: 3\n",
      "Top 5 common nearby venues (radius 100 metres)\n",
      "                venue  freq\n",
      "0         Bus Station  0.07\n",
      "1                 Bar  0.06\n",
      "2  Mexican Restaurant  0.06\n",
      "3      Sandwich Place  0.05\n",
      "4         Pizza Place  0.04\n",
      "\n",
      "\n",
      "\n",
      "\n",
      "District:  15\n",
      "---Community Area: Austin, predicted number of incident : 3.31199808158835\n",
      "Predicted community area with highest incident number : Austin, with number of incidents: 3\n",
      "Top 5 common nearby venues (radius 100 metres)\n",
      "                  venue  freq\n",
      "0  Fast Food Restaurant  0.11\n",
      "1        Sandwich Place  0.09\n",
      "2        Discount Store  0.09\n",
      "3    Seafood Restaurant  0.06\n",
      "4                   Bar  0.06\n",
      "\n",
      "\n",
      "\n",
      "\n",
      "District:  16\n",
      "---Community Area: Dunning, predicted number of incident : 2.4968016519170626\n",
      "---Community Area: Edison Park, predicted number of incident : 2.2287668798042573\n",
      "---Community Area: Forest Glen, predicted number of incident : 2.1820431831351432\n",
      "---Community Area: Garfield Ridge, predicted number of incident : 0\n",
      "---Community Area: Jefferson Park, predicted number of incident : 2.3708756575117276\n",
      "---Community Area: Norwood Park, predicted number of incident : 2.4329684437519994\n",
      "---Community Area: O'Hare, predicted number of incident : 2.629061494063138\n",
      "---Community Area: Portage Park, predicted number of incident : 3.0576587383048546\n",
      "Predicted community area with highest incident number : Portage Park, with number of incidents: 3\n",
      "Top 5 common nearby venues (radius 100 metres)\n",
      "                  venue  freq\n",
      "0  Fast Food Restaurant  0.05\n",
      "1        Discount Store  0.04\n",
      "2    Italian Restaurant  0.04\n",
      "3                   Bar  0.04\n",
      "4    Chinese Restaurant  0.04\n",
      "\n",
      "\n",
      "\n",
      "\n",
      "District:  17\n",
      "---Community Area: Albany Park, predicted number of incident : 3.3883353637265747\n",
      "---Community Area: Avondale, predicted number of incident : 2.2858115789849838\n",
      "---Community Area: Forest Glen, predicted number of incident : 2.1820431831351432\n",
      "---Community Area: Irving Park, predicted number of incident : 3.6280308375852144\n",
      "---Community Area: North Park, predicted number of incident : 2.6369924615341773\n",
      "---Community Area: Portage Park, predicted number of incident : 3.0576587383048546\n",
      "Predicted community area with highest incident number : Irving Park, with number of incidents: 4\n",
      "Top 5 common nearby venues (radius 100 metres)\n",
      "                venue  freq\n",
      "0         Bus Station  0.08\n",
      "1            Pharmacy  0.07\n",
      "2                Park  0.06\n",
      "3  Mexican Restaurant  0.05\n",
      "4                 Bar  0.05\n",
      "\n",
      "\n",
      "\n",
      "\n",
      "District:  18\n",
      "---Community Area: Lincoln Park, predicted number of incident : 1.845308125485669\n",
      "---Community Area: Loop, predicted number of incident : 0\n",
      "---Community Area: Near North Side, predicted number of incident : 7.787856165672121\n",
      "Predicted community area with highest incident number : Near North Side, with number of incidents: 8\n",
      "empty !\n",
      "empty !\n",
      "empty !\n",
      "Top 5 common nearby venues (radius 100 metres)\n",
      "                 venue  freq\n",
      "0       Clothing Store  0.05\n",
      "1  American Restaurant  0.05\n",
      "2                Hotel  0.05\n",
      "3          Coffee Shop  0.04\n",
      "4   Italian Restaurant  0.04\n",
      "\n",
      "\n",
      "\n",
      "\n",
      "District:  19\n",
      "---Community Area: Austin, predicted number of incident : 0\n",
      "---Community Area: Avondale, predicted number of incident : 0\n",
      "---Community Area: Lake View, predicted number of incident : 4.274989257740467\n",
      "---Community Area: Lincoln Park, predicted number of incident : 1.845308125485669\n",
      "---Community Area: Lincoln Square, predicted number of incident : 1.9091868897143378\n",
      "---Community Area: North Center, predicted number of incident : 1.784532521115626\n",
      "---Community Area: Uptown, predicted number of incident : 2.217793888122299\n",
      "Predicted community area with highest incident number : Lake View, with number of incidents: 4\n",
      "empty !\n",
      "Top 5 common nearby venues (radius 100 metres)\n",
      "                venue  freq\n",
      "0  Mexican Restaurant  0.06\n",
      "1             Gay Bar  0.06\n",
      "2         Coffee Shop  0.05\n",
      "3                 Bar  0.04\n",
      "4      Sandwich Place  0.04\n",
      "\n",
      "\n",
      "\n",
      "\n",
      "District:  20\n",
      "---Community Area: Edgewater, predicted number of incident : 2.201270538837653\n",
      "---Community Area: Lincoln Square, predicted number of incident : 1.9091868897143378\n",
      "---Community Area: Uptown, predicted number of incident : 2.217793888122299\n",
      "---Community Area: West Englewood, predicted number of incident : 0\n",
      "---Community Area: West Ridge, predicted number of incident : 2.6464028510402975\n",
      "Predicted community area with highest incident number : West Ridge, with number of incidents: 3\n",
      "Top 5 common nearby venues (radius 100 metres)\n",
      "               venue  freq\n",
      "0              Motel  0.08\n",
      "1  Korean Restaurant  0.08\n",
      "2         Hookah Bar  0.06\n",
      "3        Video Store  0.06\n",
      "4     Sandwich Place  0.06\n",
      "\n",
      "\n",
      "\n",
      "\n",
      "District:  22\n",
      "---Community Area: Auburn Gresham, predicted number of incident : 4.465347782768541\n",
      "---Community Area: Beverly, predicted number of incident : 3.412433598500136\n",
      "---Community Area: Bridgeport, predicted number of incident : 0\n",
      "---Community Area: Morgan Park, predicted number of incident : 4.0478575165184\n",
      "---Community Area: Mount Greenwood, predicted number of incident : 3.2658845468396454\n",
      "---Community Area: Roseland, predicted number of incident : 2.863535792393951\n",
      "---Community Area: Washington Height, predicted number of incident : 4.629372613082343\n",
      "Predicted community area with highest incident number : Washington Height, with number of incidents: 5\n",
      "Top 5 common nearby venues (radius 100 metres)\n",
      "                  venue  freq\n",
      "0  Fast Food Restaurant  0.13\n",
      "1        Discount Store  0.10\n",
      "2           Bus Station  0.08\n",
      "3        Cosmetics Shop  0.08\n",
      "4   American Restaurant  0.05\n",
      "\n",
      "\n",
      "\n",
      "\n",
      "District:  24\n",
      "---Community Area: Edgewater, predicted number of incident : 2.201270538837653\n",
      "---Community Area: Rogers Park, predicted number of incident : 3.4025396167752455\n",
      "---Community Area: West Ridge, predicted number of incident : 2.6464028510402975\n",
      "Predicted community area with highest incident number : Rogers Park, with number of incidents: 3\n",
      "Top 5 common nearby venues (radius 100 metres)\n",
      "            venue  freq\n",
      "0  Sandwich Place  0.07\n",
      "1          Bakery  0.05\n",
      "2     Bus Station  0.05\n",
      "3     Pizza Place  0.04\n",
      "4        Bus Line  0.03\n",
      "\n",
      "\n",
      "\n",
      "\n",
      "District:  25\n",
      "---Community Area: Austin, predicted number of incident : 3.31199808158835\n",
      "---Community Area: Avondale, predicted number of incident : 2.2858115789849838\n",
      "---Community Area: Belmont Cragin, predicted number of incident : 4.396351581575503\n",
      "---Community Area: Dunning, predicted number of incident : 2.4968016519170626\n",
      "---Community Area: Gage Park, predicted number of incident : 0\n",
      "---Community Area: Hermosa, predicted number of incident : 2.7557910308022056\n",
      "---Community Area: Humboldt park, predicted number of incident : 3.161949443461613\n",
      "---Community Area: Logan Square, predicted number of incident : 3.2801975654233653\n",
      "---Community Area: Montclaire, predicted number of incident : 2.336767577854194\n",
      "---Community Area: West Town, predicted number of incident : 0\n",
      "Predicted community area with highest incident number : Belmont Cragin, with number of incidents: 4\n",
      "Top 5 common nearby venues (radius 100 metres)\n",
      "                  venue  freq\n",
      "0     Mobile Phone Shop  0.13\n",
      "1    Mexican Restaurant  0.11\n",
      "2  Fast Food Restaurant  0.08\n",
      "3         Grocery Store  0.07\n",
      "4           Supermarket  0.03\n",
      "\n",
      "\n",
      "\n",
      "\n"
     ]
    }
   ],
   "source": [
    "# Hour Category options : 0-5, 6-11, 12-17, 18-23\n",
    "\n",
    "# Friday evening\n",
    "predict('2019-05-10', '18-23')"
   ]
  },
  {
   "cell_type": "code",
   "execution_count": null,
   "metadata": {},
   "outputs": [],
   "source": []
  }
 ],
 "metadata": {
  "kernelspec": {
   "display_name": "Python 3",
   "language": "python",
   "name": "python3"
  },
  "language_info": {
   "codemirror_mode": {
    "name": "ipython",
    "version": 3
   },
   "file_extension": ".py",
   "mimetype": "text/x-python",
   "name": "python",
   "nbconvert_exporter": "python",
   "pygments_lexer": "ipython3",
   "version": "3.6.8"
  }
 },
 "nbformat": 4,
 "nbformat_minor": 2
}
